{
 "cells": [
  {
   "cell_type": "markdown",
   "metadata": {},
   "source": [
    "# Assignment 1 : Python Codes"
   ]
  },
  {
   "cell_type": "markdown",
   "metadata": {},
   "source": [
    "1. Write a function that inputs a number and prints the multiplication table of that number"
   ]
  },
  {
   "cell_type": "code",
   "execution_count": 19,
   "metadata": {
    "scrolled": false
   },
   "outputs": [
    {
     "name": "stdout",
     "output_type": "stream",
     "text": [
      "Enter a number:10\n",
      "10 * 1 = 10\n",
      "10 * 2 = 20\n",
      "10 * 3 = 30\n",
      "10 * 4 = 40\n",
      "10 * 5 = 50\n",
      "10 * 6 = 60\n",
      "10 * 7 = 70\n",
      "10 * 8 = 80\n",
      "10 * 9 = 90\n",
      "10 * 10 = 100\n"
     ]
    }
   ],
   "source": [
    "def multiplicationTable(number):\n",
    "    for i in range(1,11):\n",
    "        print (\"{0} * {1} = {2}\".format(number,i,number*i))   #print the muliplication table\n",
    "\n",
    "number = int(input(\"Enter a number:\"))                        #Input a number\n",
    "multiplicationTable(number)\n",
    "\n"
   ]
  },
  {
   "cell_type": "markdown",
   "metadata": {},
   "source": [
    "2. Write a program to print twin primes less than 1000. If two consecutive odd numbers are\n",
    "   both prime then they are known as twin primes"
   ]
  },
  {
   "cell_type": "code",
   "execution_count": 9,
   "metadata": {},
   "outputs": [
    {
     "name": "stdout",
     "output_type": "stream",
     "text": [
      "[[3, 5], [5, 7], [11, 13], [17, 19], [29, 31], [41, 43], [59, 61], [71, 73], [101, 103], [107, 109], [137, 139], [149, 151], [179, 181], [191, 193], [197, 199], [227, 229], [239, 241], [269, 271], [281, 283], [311, 313], [347, 349], [419, 421], [431, 433], [461, 463], [521, 523], [569, 571], [599, 601], [617, 619], [641, 643], [659, 661], [809, 811], [821, 823], [827, 829], [857, 859], [881, 883]]\n"
     ]
    }
   ],
   "source": [
    "def is_prime(number):  \n",
    "    \n",
    "    if (number==2 or number==3):\n",
    "        return number\n",
    "    if(number>3):\n",
    "        prime = True \n",
    "        for i in range (2,number):\n",
    "            if(number%i==0):\n",
    "                prime = False\n",
    "                break\n",
    "        if prime == True :\n",
    "            return number\n",
    "odd_nums=[]                                                        #Odd numbers list\n",
    "twin_list=[]                                                       #Required List\n",
    "for i in range(0, 1001):\n",
    "    if (i%2 !=0):\n",
    "        odd_nums.append(i)                                         #find odd nos and add to the odd no list\n",
    "\n",
    "prime_num_list = list(filter(is_prime,odd_nums))                   #Filter prime numbers\n",
    "\n",
    "for i in range(0,len(prime_num_list)-2):\n",
    "    if(abs(prime_num_list[i]-prime_num_list[i+1])==2):\n",
    "        twin_list.append([prime_num_list[i],prime_num_list[i+1]])\n",
    "\n",
    "print(twin_list)"
   ]
  },
  {
   "cell_type": "markdown",
   "metadata": {},
   "source": [
    "3. Write a program to find out the prime factors of a number. \n",
    "   Example: prime factors of 56 are 2, 2, 2, 7"
   ]
  },
  {
   "cell_type": "code",
   "execution_count": 13,
   "metadata": {},
   "outputs": [
    {
     "name": "stdout",
     "output_type": "stream",
     "text": [
      "Enter a number:56\n",
      "[2, 2, 2, 7]\n"
     ]
    }
   ],
   "source": [
    "factor_list=[]\n",
    "factor =2\n",
    "\n",
    "def is_prime(number):\n",
    "    \n",
    "    if (number==2 or number==3):\n",
    "        return True\n",
    "    \n",
    "    if (number>3):\n",
    "        prime = True \n",
    "        for i in range (2,number):\n",
    "            if(number%i==0):\n",
    "                prime = False\n",
    "                break\n",
    "        if prime == True :\n",
    "            return prime\n",
    "\n",
    "number = int(input(\"Enter a number:\"))\n",
    "    \n",
    "while(factor<=number):\n",
    "    if(is_prime(factor) and number%factor ==0):  #check if it is a prime factor or not\n",
    "        factor_list.append(factor)\n",
    "        number= number/factor\n",
    "    else:\n",
    "        factor= factor+1    \n",
    "\n",
    "print (factor_list)\n",
    "        \n",
    "    "
   ]
  },
  {
   "cell_type": "markdown",
   "metadata": {},
   "source": [
    "4. Write a program to implement these formulae of permutations and combinations.\n",
    "   Number of permutations of n objects taken r at a time: p(n, r) = n! / (n-r)!. Number of\n",
    "   combinations of n objects taken r at a time is: c(n, r) = n! / (r!*(n-r)!) = p(n,r) / r!"
   ]
  },
  {
   "cell_type": "code",
   "execution_count": 21,
   "metadata": {},
   "outputs": [
    {
     "name": "stdout",
     "output_type": "stream",
     "text": [
      "Enter the value of n :3\n",
      "Enter the value of r :0\n",
      "NPR is : 1\n",
      "NCR is : 1\n"
     ]
    }
   ],
   "source": [
    "def npr(n,r):\n",
    "    a = fact(n)\n",
    "    b = fact(n-r)\n",
    "    return(a//b)\n",
    "\n",
    "def ncr(n,r):\n",
    "    a = fact(n)\n",
    "    b = fact(n-r)\n",
    "    c= fact(r)\n",
    "    return(a//(b*c))\n",
    "    \n",
    "def fact(num):\n",
    "    if(num>=1):\n",
    "        return num*fact(num-1)\n",
    "    else:\n",
    "        return 1\n",
    "\n",
    "n = int(input(\"Enter the value of n :\"))\n",
    "r = int(input(\"Enter the value of r :\"))\n",
    "if(n<0 or r<0):\n",
    "    print(\"Please enter a positive number\")\n",
    "elif(n<r):\n",
    "    print(\"You have {0} objects , you cannot pick or combine {1} objects\".format(n,r))\n",
    "else:\n",
    "    c= npr(n,r)\n",
    "    d= ncr(n,r)\n",
    "\n",
    "    print(\"NPR is : {0}\".format(c))\n",
    "    print(\"NCR is : {0}\".format(d))\n",
    "\n",
    "\n",
    "    \n",
    "    \n",
    "    "
   ]
  },
  {
   "cell_type": "markdown",
   "metadata": {},
   "source": [
    "5. Write a function that converts a decimal number to binary number"
   ]
  },
  {
   "cell_type": "code",
   "execution_count": 29,
   "metadata": {},
   "outputs": [
    {
     "name": "stdout",
     "output_type": "stream",
     "text": [
      "Enter a number 9\n",
      "1001"
     ]
    }
   ],
   "source": [
    "def decimal_to_binary(number):\n",
    "    while (number>0):\n",
    "        print(number%2, end =\"\")\n",
    "        number = number//2\n",
    "a = int(input(\"Enter a number \"))\n",
    "decimal_to_binary(a)\n"
   ]
  },
  {
   "cell_type": "markdown",
   "metadata": {},
   "source": [
    "6. Write a function cubesum() that accepts an integer and returns the sum of the cubes of\n",
    "   individual digits of that number. Use this function to make functions PrintArmstrong() and\n",
    "   isArmstrong() to print Armstrong numbers and to find whether is an Armstrong number."
   ]
  },
  {
   "cell_type": "code",
   "execution_count": 4,
   "metadata": {},
   "outputs": [
    {
     "name": "stdout",
     "output_type": "stream",
     "text": [
      "Enter starting no:1\n",
      "Enter ending no:1000\n",
      "1 153 370 371 407 "
     ]
    }
   ],
   "source": [
    "def cubesum(num):\n",
    "    sum =0\n",
    "    while(num>0):\n",
    "        sum =sum+((num%10)**3)\n",
    "        num = num//10\n",
    "    return sum\n",
    "\n",
    "def isArmstrong(num):\n",
    "    if(num == cubesum(num)):\n",
    "        return True\n",
    "    else:\n",
    "        return False\n",
    "\n",
    "def PrintArmstrong(start, end):\n",
    "    for i in range (start,end+1):\n",
    "        if(isArmstrong(i)):\n",
    "            print(i,end=' ')\n",
    "\n",
    "\n",
    "a = int(input(\"Enter starting no:\"))\n",
    "b = int(input(\"Enter ending no:\"))\n",
    "PrintArmstrong(a,b)"
   ]
  },
  {
   "cell_type": "markdown",
   "metadata": {},
   "source": [
    "7. Write a function prodDigits() that inputs a number and returns the product of digits of that\n",
    "   number."
   ]
  },
  {
   "cell_type": "code",
   "execution_count": 3,
   "metadata": {},
   "outputs": [
    {
     "name": "stdout",
     "output_type": "stream",
     "text": [
      "Enter a number:654\n",
      "Product of the digits of 654 is 120\n"
     ]
    }
   ],
   "source": [
    "def prodDigits(num):\n",
    "    prod = 1\n",
    "    while (num>0):\n",
    "        prod = prod*(num%10)\n",
    "        num = num//10\n",
    "    return prod\n",
    "\n",
    "a = int(input(\"Enter a number:\"))\n",
    "print (\"Product of the digits of {0} is {1}\".format(a,prodDigits(a)))"
   ]
  },
  {
   "cell_type": "markdown",
   "metadata": {},
   "source": [
    "8. If all digits of a number n are multiplied by each other repeating with the product, the one\n",
    "   digit number obtained at last is called the multiplicative digital root of n. The number of\n",
    "   times digits need to be multiplied to reach one digit is called the multiplicative\n",
    "   persistance of n.\n",
    "   Example: 86 -> 48 -> 32 -> 6 (MDR 6, MPersistence 3)\n",
    "            341 -> 12->2 (MDR 2, MPersistence 2)\n",
    "   Using the function prodDigits() of previous exercise write functions MDR() and\n",
    "   MPersistence() that input a number and return its multiplicative digital root and\n",
    "   multiplicative persistence respectively"
   ]
  },
  {
   "cell_type": "code",
   "execution_count": 11,
   "metadata": {
    "scrolled": true
   },
   "outputs": [
    {
     "name": "stdout",
     "output_type": "stream",
     "text": [
      "Enter a number:86\n",
      "(MDR 6, Mpersistence 3) \n"
     ]
    }
   ],
   "source": [
    "def prodDigits(num):\n",
    "    prod = 1\n",
    "    while (num>0):\n",
    "        prod = prod*(num%10)\n",
    "        num = num//10\n",
    "    return prod\n",
    "\n",
    "def MDR(num):\n",
    "    while(num > 9):\n",
    "        num= prodDigits(num)\n",
    "    return num\n",
    "\n",
    "def MPersistence(num):\n",
    "    Mpersistence =0\n",
    "    while(num > 9):\n",
    "        num= prodDigits(num)\n",
    "        Mpersistence +=1\n",
    "    return Mpersistence\n",
    "\n",
    "a = int(input(\"Enter a number:\"))\n",
    "print(\"(MDR {0}, Mpersistence {1}) \".format(MDR(a),MPersistence(a)))\n",
    "\n"
   ]
  },
  {
   "cell_type": "markdown",
   "metadata": {},
   "source": [
    "9. Write a function sumPdivisors() that finds the sum of proper divisors of a number. Proper\n",
    "   divisors of a number are those numbers by which the number is divisible, except the\n",
    "   number itself. For example proper divisors of 36 are 1, 2, 3, 4, 6, 9, 18"
   ]
  },
  {
   "cell_type": "code",
   "execution_count": 20,
   "metadata": {},
   "outputs": [
    {
     "name": "stdout",
     "output_type": "stream",
     "text": [
      "Enter a number 496\n",
      "sum of divisors of given number is 496\n"
     ]
    }
   ],
   "source": [
    "def sumPdivisors(num):\n",
    "    sum =0\n",
    "    for i in range(1,(num//2)+1):\n",
    "        if num%i == 0:\n",
    "            sum = sum + i\n",
    "    return sum\n",
    "\n",
    "print(\"sum of divisors of given number is {0}\".format(sumPdivisors(int(input(\"Enter a number \")))))"
   ]
  },
  {
   "cell_type": "markdown",
   "metadata": {},
   "source": [
    "10. A number is called perfect if the sum of proper divisors of that number is equal to the\n",
    "    number. For example 28 is perfect number, since 1+2+4+7+14=28. Write a program to\n",
    "    print all the perfect numbers in a given range"
   ]
  },
  {
   "cell_type": "code",
   "execution_count": 14,
   "metadata": {},
   "outputs": [
    {
     "name": "stdout",
     "output_type": "stream",
     "text": [
      "Enter base range: 1\n",
      "Enter limit range: 100\n",
      "6 28 "
     ]
    }
   ],
   "source": [
    "def sumPdivisors(num):\n",
    "    sum =0\n",
    "    for i in range(1,(num//2)+1):\n",
    "        if num%i == 0:\n",
    "            sum = sum + i\n",
    "    return sum\n",
    "\n",
    "base = int(input(\"Enter base range: \"))\n",
    "limit= int(input(\"Enter limit range: \"))\n",
    "\n",
    "for i in range (base, limit+1):\n",
    "    if sumPdivisors(i)==i:\n",
    "        print(i, end =' ')"
   ]
  },
  {
   "cell_type": "markdown",
   "metadata": {},
   "source": [
    "11. Two different numbers are called amicable numbers if the sum of the proper divisors of\n",
    "    each is equal to the other number. For example 220 and 284 are amicable numbers.\n",
    "\n",
    "    Sum of proper divisors of 220 = 1+2+4+5+10+11+20+22+44+55+110 = 284\n",
    "    Sum of proper divisors of 284 = 1+2+4+71+142 = 220\n",
    "    Write a function to print pairs of amicable numbers in a range"
   ]
  },
  {
   "cell_type": "code",
   "execution_count": 22,
   "metadata": {},
   "outputs": [
    {
     "name": "stdout",
     "output_type": "stream",
     "text": [
      "Enter base range: 1\n",
      "Enter limit range: 10000\n",
      "(220,284)\n",
      "(1184,1210)\n",
      "(2620,2924)\n",
      "(5020,5564)\n",
      "(6232,6368)\n"
     ]
    }
   ],
   "source": [
    "def sumPdivisors(num):\n",
    "    sum =0\n",
    "    for i in range(1,(num//2)+1):\n",
    "        if num%i == 0:\n",
    "            sum = sum + i\n",
    "    return sum\n",
    "\n",
    "base = int(input(\"Enter base range: \"))\n",
    "limit= int(input(\"Enter limit range: \"))\n",
    "lst=[]\n",
    "for i in range (base, limit+1):\n",
    "    if i not in lst:\n",
    "        temp = sumPdivisors(i)\n",
    "        if(sumPdivisors(temp)==i and i!=temp):                 # to check if the number is not a perfect number\n",
    "            lst.append(temp)                                   # to eliminate duplicate pairs\n",
    "            print(\"({0},{1})\".format(i,temp))"
   ]
  },
  {
   "cell_type": "markdown",
   "metadata": {},
   "source": [
    "12. Write a program which can filter odd numbers in a list by using filter function"
   ]
  },
  {
   "cell_type": "code",
   "execution_count": 23,
   "metadata": {},
   "outputs": [
    {
     "name": "stdout",
     "output_type": "stream",
     "text": [
      "[1, 3, 5, 7, 9]\n"
     ]
    }
   ],
   "source": [
    "lst = [1,2,3,4,5,6,7,8,9]\n",
    "lst = list(filter(lambda x:x%2!=0 , lst))\n",
    "print(lst)"
   ]
  },
  {
   "cell_type": "markdown",
   "metadata": {},
   "source": [
    "13. Write a program which can map() to make a list whose elements are cube of elements in\n",
    "    a given list"
   ]
  },
  {
   "cell_type": "code",
   "execution_count": 24,
   "metadata": {},
   "outputs": [
    {
     "name": "stdout",
     "output_type": "stream",
     "text": [
      "[1, 8, 27, 64, 125, 216, 343, 512, 729]\n"
     ]
    }
   ],
   "source": [
    "lst = [1,2,3,4,5,6,7,8,9]\n",
    "lst = list(map(lambda x:x**3 , lst))\n",
    "print(lst)"
   ]
  },
  {
   "cell_type": "markdown",
   "metadata": {},
   "source": [
    "14. Write a program which can map() and filter() to make a list whose elements are cube of\n",
    "    even number in a given list"
   ]
  },
  {
   "cell_type": "code",
   "execution_count": 2,
   "metadata": {},
   "outputs": [
    {
     "name": "stdout",
     "output_type": "stream",
     "text": [
      "[8, 64, 216, 512]\n"
     ]
    }
   ],
   "source": [
    "lst = [1,2,3,4,5,6,7,8,9]\n",
    "lst = list(map(lambda x:x**3,list(filter(lambda x:x%2==0 , lst))))\n",
    "print(lst)"
   ]
  },
  {
   "cell_type": "code",
   "execution_count": null,
   "metadata": {},
   "outputs": [],
   "source": []
  }
 ],
 "metadata": {
  "kernelspec": {
   "display_name": "Python 3",
   "language": "python",
   "name": "python3"
  },
  "language_info": {
   "codemirror_mode": {
    "name": "ipython",
    "version": 3
   },
   "file_extension": ".py",
   "mimetype": "text/x-python",
   "name": "python",
   "nbconvert_exporter": "python",
   "pygments_lexer": "ipython3",
   "version": "3.6.5"
  }
 },
 "nbformat": 4,
 "nbformat_minor": 2
}
